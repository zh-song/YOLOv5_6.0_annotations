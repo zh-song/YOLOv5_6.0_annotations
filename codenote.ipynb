{
 "cells": [
  {
   "cell_type": "markdown",
   "metadata": {},
   "source": [
    "#### Build env for pytorch (Linux)"
   ]
  },
  {
   "cell_type": "markdown",
   "metadata": {},
   "source": [
    "Step:\n",
    "> Gpu driver -> Anaconda -> CUDA 11.4 -> CUDNN 8.2.4 -> pytorch (CUDA 11.3)"
   ]
  },
  {
   "cell_type": "markdown",
   "metadata": {},
   "source": [
    "#### COCO label format"
   ]
  },
  {
   "cell_type": "markdown",
   "metadata": {},
   "source": [
    "\n",
    "One image may has several different labels for several bboxs.\n",
    "\n",
    "X_center, Y_center, width, height are all normalized.\n",
    "\n",
    "> [ class, x_center, Y_center, width, height ]"
   ]
  },
  {
   "cell_type": "markdown",
   "metadata": {},
   "source": [
    "#### Some functions of yolov5"
   ]
  },
  {
   "cell_type": "markdown",
   "metadata": {},
   "source": [
    "Use eval() trans str to class variable or get its values"
   ]
  },
  {
   "cell_type": "code",
   "execution_count": 5,
   "metadata": {},
   "outputs": [
    {
     "name": "stdout",
     "output_type": "stream",
     "text": [
      "<class 'torch.nn.modules.conv.Conv2d'>\n",
      "80\n",
      "torch.nn.modules.conv.Conv2d\n"
     ]
    }
   ],
   "source": [
    "# yolo.py\n",
    "import torch\n",
    "\n",
    "Conv = torch.nn.Conv2d\n",
    "m = 'Conv'\n",
    "\n",
    "nc = 80\n",
    "\n",
    "out = eval(m)\n",
    "ncout = eval('nc')\n",
    "\n",
    "print(out)\n",
    "print(ncout)\n",
    "#get model type\n",
    "print(str(out)[8:-2].replace('__main__.', ''))\n"
   ]
  },
  {
   "cell_type": "markdown",
   "metadata": {},
   "source": [
    "Use function glob.glob() match all the files (jpg) in this path "
   ]
  },
  {
   "cell_type": "code",
   "execution_count": null,
   "metadata": {},
   "outputs": [],
   "source": [
    "# datasets.py\n",
    "import glob\n",
    "\n",
    "f = [] # image file\n",
    "p = '../datasets/coco128/images/train2017'\n",
    "f += glob.glob(str(p / '**' / '*.*'), recursive=True)"
   ]
  },
  {
   "cell_type": "markdown",
   "metadata": {},
   "source": [
    "#### Pytorch Parallel load"
   ]
  },
  {
   "cell_type": "markdown",
   "metadata": {},
   "source": [
    "[blog here](https://www.cnblogs.com/rossiXYZ/p/15496268.html)"
   ]
  },
  {
   "cell_type": "markdown",
   "metadata": {},
   "source": [
    "#### Out images what means"
   ]
  },
  {
   "cell_type": "markdown",
   "metadata": {},
   "source": [
    "[【YOLOV5-5.x 源码解读】plots.py](https://blog.csdn.net/qq_38253797/article/details/119324328#t16)"
   ]
  },
  {
   "cell_type": "code",
   "execution_count": 1,
   "metadata": {},
   "outputs": [
    {
     "data": {
      "text/plain": [
       "<seaborn.axisgrid.JointGrid at 0x2196707ae80>"
      ]
     },
     "execution_count": 1,
     "metadata": {},
     "output_type": "execute_result"
    },
    {
     "data": {
      "image/png": "[encoded data removed]",
      "text/plain": [
       "<Figure size 432x432 with 3 Axes>"
      ]
     },
     "metadata": {
      "needs_background": "light"
     },
     "output_type": "display_data"
    }
   ],
   "source": [
    "import pandas as pd \n",
    "import seaborn\n",
    "\n",
    "z = []\n",
    "x = [1,1,1,1,1,1,2,2,2,2,2,3,3,3,3]\n",
    "y = [0.1,0.2,0.3,0.4,0.5,0.6,0.1,0.2,0.3,0.4,0.5,0.1,0.2,0.3,0.4]\n",
    "for i in range(len(x)):\n",
    "    z.append([x[i],y[i]])\n",
    "d = pd.DataFrame(data=z,columns=[\"x\",\"y\"])\n",
    "seaborn.jointplot(x, y, data=d)\n"
   ]
  },
  {
   "cell_type": "markdown",
   "metadata": {},
   "source": [
    "#### Anchor check and kmeans"
   ]
  },
  {
   "cell_type": "markdown",
   "metadata": {},
   "source": [
    "- [ ] aotoanchor.py"
   ]
  },
  {
   "cell_type": "code",
   "execution_count": 13,
   "metadata": {},
   "outputs": [
    {
     "data": {
      "text/plain": [
       "(tensor([[0.9987, 0.4606, 0.2662],\n",
       "         [0.0640, 0.8735, 0.8845],\n",
       "         [0.4710, 0.2992, 0.1994],\n",
       "         [0.9702, 0.5670, 0.9559],\n",
       "         [0.4971, 0.6929, 0.3856],\n",
       "         [0.0347, 0.5235, 0.6991],\n",
       "         [0.8520, 0.0066, 0.8028],\n",
       "         [0.6735, 0.3914, 0.2730],\n",
       "         [0.1168, 0.8100, 0.4208]]),\n",
       " tensor([[ True,  True,  True],\n",
       "         [False,  True,  True],\n",
       "         [ True,  True, False],\n",
       "         [ True,  True,  True],\n",
       "         [ True,  True,  True],\n",
       "         [False,  True,  True],\n",
       "         [ True, False,  True],\n",
       "         [ True,  True,  True],\n",
       "         [False,  True,  True]]),\n",
       " tensor([[1., 1., 1.],\n",
       "         [0., 1., 1.],\n",
       "         [1., 1., 0.],\n",
       "         [1., 1., 1.],\n",
       "         [1., 1., 1.],\n",
       "         [0., 1., 1.],\n",
       "         [1., 0., 1.],\n",
       "         [1., 1., 1.],\n",
       "         [0., 1., 1.]]),\n",
       " tensor(2.4444))"
      ]
     },
     "execution_count": 13,
     "metadata": {},
     "output_type": "execute_result"
    }
   ],
   "source": [
    "import torch\n",
    "x = torch.rand(9,3)\n",
    "y = x > (1 / 4.0)\n",
    "z = y.float()\n",
    "aat = (x > 1 / 4.0).float().sum(1).mean()\n",
    "x,y,z,aat"
   ]
  },
  {
   "cell_type": "code",
   "execution_count": 5,
   "metadata": {},
   "outputs": [
    {
     "data": {
      "text/plain": [
       "(array([[0.86136651, 0.01883577],\n",
       "        [0.89528275, 0.35641624],\n",
       "        [0.03661116, 0.19573723],\n",
       "        [0.5099941 , 0.18243157],\n",
       "        [0.27532591, 0.52233336],\n",
       "        [0.82716384, 0.66406463],\n",
       "        [0.89979829, 0.90387673],\n",
       "        [0.55372053, 0.65660052],\n",
       "        [0.0931474 , 0.7874335 ]]),\n",
       " 0.08533956926786078)"
      ]
     },
     "execution_count": 5,
     "metadata": {},
     "output_type": "execute_result"
    }
   ],
   "source": [
    "import numpy as np\n",
    "from scipy.cluster.vq import kmeans\n",
    "wh = np.random.rand(30,2)\n",
    "k, dist = kmeans(wh , 9, iter=30)\n",
    "k,dist"
   ]
  },
  {
   "cell_type": "code",
   "execution_count": 25,
   "metadata": {},
   "outputs": [
    {
     "data": {
      "text/plain": [
       "array([[1.03350099, 0.96731592],\n",
       "       [1.00295711, 1.04702634],\n",
       "       [1.04110075, 1.00480547],\n",
       "       [1.00730593, 0.99970796],\n",
       "       [0.98628401, 0.9779736 ],\n",
       "       [1.00207599, 1.01298974],\n",
       "       [1.00974475, 1.00545968],\n",
       "       [1.01267274, 1.02589173],\n",
       "       [1.00247916, 1.00752988]])"
      ]
     },
     "execution_count": 25,
     "metadata": {},
     "output_type": "execute_result"
    }
   ],
   "source": [
    "import numpy as np\n",
    "npr = np.random\n",
    "sh = k.shape\n",
    "v = np.ones(sh)\n",
    "v,(v == 1).all()\n",
    "rash = npr.random(sh)\n",
    "rash,(rash < 0.9)\n",
    "ranp = (rash < 0.9) * npr.random()\n",
    "ranp\n",
    "ran0 = npr.randn(*sh)\n",
    "ran0,ran0.mean(),ran0.var()#正态分布\n",
    "ran1 = ranp*ran0\n",
    "ran2 = ran1*0.1+1#均值为1\n",
    "ran2.mean(),ran2.var()\n",
    "ran2.clip(0.3,3.0)#最小值0.3，最大值3.0\n"
   ]
  },
  {
   "cell_type": "code",
   "execution_count": 12,
   "metadata": {},
   "outputs": [
    {
     "data": {
      "text/plain": [
       "(tensor([ 0.6869, -1.0011, -1.2449]), [False, True, False], tensor([-1.0011]))"
      ]
     },
     "execution_count": 12,
     "metadata": {},
     "output_type": "execute_result"
    }
   ],
   "source": [
    "import torch\n",
    "x = torch.randn(3)\n",
    "j = [False,True,False]\n",
    "y = x[j]#filter取出true的元素\n",
    "x,j,y"
   ]
  },
  {
   "cell_type": "code",
   "execution_count": 27,
   "metadata": {},
   "outputs": [
    {
     "data": {
      "text/plain": [
       "(tensor([[[-1.0907,  0.4897],\n",
       "          [-1.7261, -1.2323]],\n",
       " \n",
       "         [[ 1.3804,  0.2697],\n",
       "          [-0.8053,  0.0666]],\n",
       " \n",
       "         [[-0.5010, -0.1266],\n",
       "          [-0.2418,  0.4528]]]),\n",
       " tensor([[False,  True],\n",
       "         [False,  True],\n",
       "         [False,  True]]),\n",
       " tensor([[-1.7261, -1.2323],\n",
       "         [-0.8053,  0.0666],\n",
       "         [-0.2418,  0.4528]]))"
      ]
     },
     "execution_count": 27,
     "metadata": {},
     "output_type": "execute_result"
    }
   ],
   "source": [
    "import torch\n",
    "x = torch.randn(3,2,2)\n",
    "j = torch.tensor([False,True])\n",
    "j = torch.stack((j,j,j))\n",
    "y = x[j]#filter取出true的元素\n",
    "x,j,y"
   ]
  },
  {
   "cell_type": "code",
   "execution_count": 5,
   "metadata": {},
   "outputs": [
    {
     "data": {
      "text/plain": [
       "tensor([[0., 0.],\n",
       "        [0., 0.],\n",
       "        [0., 0.],\n",
       "        [0., 0.],\n",
       "        [0., 0.],\n",
       "        [0., 0.]], dtype=torch.float16)"
      ]
     },
     "execution_count": 5,
     "metadata": {},
     "output_type": "execute_result"
    }
   ],
   "source": [
    "import torch\n",
    "ps=torch.tensor([  [-1.7500,  0.0835],\n",
    "                            [-1.1768, -1.3984],\n",
    "                            [-0.8174, -0.4229],\n",
    "                            [-1.2812, -2.1250],\n",
    "                            [-1.6895, -0.1453],\n",
    "                            [-1.4268, -1.1973]],dtype=torch.float16)\n",
    "t = torch.full_like(ps, 0.0)\n",
    "t"
   ]
  },
  {
   "cell_type": "code",
   "execution_count": 20,
   "metadata": {},
   "outputs": [
    {
     "data": {
      "text/plain": [
       "tensor([2])"
      ]
     },
     "execution_count": 20,
     "metadata": {},
     "output_type": "execute_result"
    }
   ],
   "source": [
    "import torch\n",
    "x = torch.tensor([1,2,3,4])\n",
    "# y = x[:, None]\n",
    "x[1:2]"
   ]
  },
  {
   "cell_type": "code",
   "execution_count": 19,
   "metadata": {},
   "outputs": [
    {
     "data": {
      "text/plain": [
       "(tensor([[0.4985, 0.4533, 0.3320, 0.2781, 0.9147, 0.4574, 0.0976, 0.7233],\n",
       "         [0.6826, 0.3700, 0.5449, 0.8972, 0.2434, 0.4928, 0.3886, 0.4931],\n",
       "         [0.3669, 0.6466, 0.1916, 0.7146, 0.0051, 0.6431, 0.5016, 0.1057]]),\n",
       " tensor([[0, 0, 1, 1, 1, 2, 2, 2],\n",
       "         [0, 2, 0, 1, 2, 0, 1, 2]]))"
      ]
     },
     "execution_count": 19,
     "metadata": {},
     "output_type": "execute_result"
    }
   ],
   "source": [
    "import torch\n",
    "conf_thres = 0.1\n",
    "x = torch.rand(3,8)\n",
    "i = (x[:, 5:] > conf_thres).nonzero(as_tuple=False).T\n",
    "x,i"
   ]
  },
  {
   "cell_type": "code",
   "execution_count": 43,
   "metadata": {},
   "outputs": [
    {
     "data": {
      "text/plain": [
       "(tensor([[2, 3],\n",
       "         [5, 0],\n",
       "         [1, 3],\n",
       "         [1, 1],\n",
       "         [1, 3]]),\n",
       " tensor([[0.3489],\n",
       "         [0.4017],\n",
       "         [0.0223],\n",
       "         [0.1689],\n",
       "         [0.2939]]),\n",
       " array([[5.        , 0.        , 0.4017173 ],\n",
       "        [2.        , 3.        , 0.34889346],\n",
       "        [1.        , 3.        , 0.29388845],\n",
       "        [1.        , 1.        , 0.16885895],\n",
       "        [1.        , 3.        , 0.02232575]], dtype=float32),\n",
       " array([[5.        , 0.        , 0.4017173 ],\n",
       "        [1.        , 1.        , 0.16885895],\n",
       "        [2.        , 3.        , 0.34889346]], dtype=float32),\n",
       " (array([0., 1., 3.], dtype=float32), array([0, 3, 1])),\n",
       " array([[1.        , 1.        , 0.16885895],\n",
       "        [2.        , 3.        , 0.34889346],\n",
       "        [5.        , 0.        , 0.4017173 ]], dtype=float32))"
      ]
     },
     "execution_count": 43,
     "metadata": {},
     "output_type": "execute_result"
    }
   ],
   "source": [
    "import torch\n",
    "import numpy as np\n",
    "torch.manual_seed(0)\n",
    "x = torch.randint(0,6,size = (5,2))\n",
    "y = torch.rand(1,5).T\n",
    "matches = torch.cat((x, y), 1).numpy()\n",
    "matches = matches[matches[:, 2].argsort()[::-1]]\n",
    "z = np.unique(matches[:, 1], return_index=True)\n",
    "matches1 = matches[z[1]]\n",
    "matches2 = matches1[np.unique(matches1[:, 0], return_index=True)[1]]\n",
    "x,y,matches,matches1,z,matches2"
   ]
  },
  {
   "cell_type": "code",
   "execution_count": 48,
   "metadata": {},
   "outputs": [
    {
     "data": {
      "text/plain": [
       "(tensor([12, 15,  5,  0,  3, 11,  3,  7,  9,  3]),\n",
       " array([1, 0, 0, 3, 0, 1, 0, 1, 0, 1, 0, 1, 1, 0, 0, 1]))"
      ]
     },
     "execution_count": 48,
     "metadata": {},
     "output_type": "execute_result"
    }
   ],
   "source": [
    "import numpy as np\n",
    "import torch\n",
    "torch.manual_seed(0)\n",
    "s = torch.randint(0,16,size = (10,))\n",
    "nt = np.bincount(s, minlength=16)\n",
    "s,nt"
   ]
  }
 ],
 "metadata": {
  "interpreter": {
   "hash": "3e271b839ddd36742db1a5eb15a37dd3028720e05ebe976823a028754f5fad6f"
  },
  "kernelspec": {
   "display_name": "Python 3.9.7 64-bit ('objdet': conda)",
   "language": "python",
   "name": "python3"
  },
  "language_info": {
   "codemirror_mode": {
    "name": "ipython",
    "version": 3
   },
   "file_extension": ".py",
   "mimetype": "text/x-python",
   "name": "python",
   "nbconvert_exporter": "python",
   "pygments_lexer": "ipython3",
   "version": "3.9.7"
  },
  "orig_nbformat": 4
 },
 "nbformat": 4,
 "nbformat_minor": 2
}
